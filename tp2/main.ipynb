{
 "cells": [
  {
   "cell_type": "code",
   "execution_count": 1,
   "source": [
    "from pyspark.sql import SparkSession\n",
    "spark = SparkSession.builder.master(\"local[*]\").getOrCreate()\n",
    "\n",
    "sc = spark.sparkContext\n",
    "sc"
   ],
   "outputs": [
    {
     "output_type": "stream",
     "name": "stderr",
     "text": [
      "21/09/17 11:12:06 WARN NativeCodeLoader: Unable to load native-hadoop library for your platform... using builtin-java classes where applicable\n",
      "Using Spark's default log4j profile: org/apache/spark/log4j-defaults.properties\n",
      "Setting default log level to \"WARN\".\n",
      "To adjust logging level use sc.setLogLevel(newLevel). For SparkR, use setLogLevel(newLevel).\n"
     ]
    },
    {
     "output_type": "execute_result",
     "data": {
      "text/html": [
       "\n",
       "        <div>\n",
       "            <p><b>SparkContext</b></p>\n",
       "\n",
       "            <p><a href=\"http://chilperic06:4040\">Spark UI</a></p>\n",
       "\n",
       "            <dl>\n",
       "              <dt>Version</dt>\n",
       "                <dd><code>v3.1.2</code></dd>\n",
       "              <dt>Master</dt>\n",
       "                <dd><code>local[*]</code></dd>\n",
       "              <dt>AppName</dt>\n",
       "                <dd><code>pyspark-shell</code></dd>\n",
       "            </dl>\n",
       "        </div>\n",
       "        "
      ],
      "text/plain": [
       "<SparkContext master=local[*] appName=pyspark-shell>"
      ]
     },
     "metadata": {},
     "execution_count": 1
    }
   ],
   "metadata": {}
  },
  {
   "cell_type": "code",
   "execution_count": 5,
   "source": [
    "df_read = spark.read.csv(\"./offensive_comment_small.csv\",header = True, sep=';')\n",
    "\n",
    "print(df_read.count())"
   ],
   "outputs": [
    {
     "output_type": "stream",
     "name": "stdout",
     "text": [
      "10000\n"
     ]
    }
   ],
   "metadata": {}
  },
  {
   "cell_type": "code",
   "execution_count": 21,
   "source": [
    "df_read = df_read.withColumn(\"toxic\",df_read[\"toxic\"].cast(\"int\"))\n",
    "df_read = df_read.withColumn(\"severe_toxic\",df_read[\"severe_toxic\"].cast(\"int\"))\n",
    "df_read = df_read.withColumn(\"obscene\",df_read[\"obscene\"].cast(\"int\"))\n",
    "df_read = df_read.withColumn(\"threat\",df_read[\"threat\"].cast(\"int\"))\n",
    "df_read = df_read.withColumn(\"insult\",df_read[\"insult\"].cast(\"int\"))\n",
    "df_read = df_read.withColumn(\"identity_hate\",df_read[\"identity_hate\"].cast(\"int\"))\n",
    "\n",
    "df_read = df_read.dropna()"
   ],
   "outputs": [],
   "metadata": {}
  },
  {
   "cell_type": "code",
   "execution_count": 27,
   "source": [
    "import pyspark.ml as SparkML\n",
    "\n",
    "# Tokenizer converts sentences to seperate words\n",
    "tokenizer = SparkML.feature.Tokenizer(inputCol=\"comment_text\",outputCol=\"words\")\n",
    "\n",
    "df_preparation = tokenizer.transform(df_read)\n",
    "\n",
    "# StopWordsRemover removes useless words\n",
    "wordsFilter = SparkML.feature.StopWordsRemover(inputCol=\"words\",outputCol=\"words_cleaned\")\n",
    "df_preparation = wordsFilter.transform(df_preparation)\n",
    "\n",
    "# preparing the model\n",
    "cv = SparkML.feature.CountVectorizer(inputCol=\"words_cleaned\",outputCol=\"features\")\n",
    "model = cv.fit(df_preparation)\n",
    "pred = model.transform(df_preparation)\n",
    "\n",
    "print(pred)\n",
    "\n"
   ],
   "outputs": [
    {
     "output_type": "stream",
     "name": "stdout",
     "text": [
      "DataFrame[id: string, comment_text: string, toxic: int, severe_toxic: int, obscene: int, threat: int, insult: int, identity_hate: int, words: array<string>, words_cleaned: array<string>, features: vector]\n"
     ]
    }
   ],
   "metadata": {}
  },
  {
   "cell_type": "code",
   "execution_count": null,
   "source": [
    "vector = SparkML.feature.VectorAssembler(inputCols=[\"toxic\",\"severe_toxic\",\"obscene\",\"threat\",\"insult\",\"identity_hate\"], outputCol=\"features\")\n",
    "\n",
    "df_transform = vector.transform(tokenizer.transform(df_read.dropna()).select(\"words\",\"toxic\",\"severe_toxic\",\"obscene\",\"threat\",\"insult\",\"identity_hate\"))"
   ],
   "outputs": [],
   "metadata": {}
  }
 ],
 "metadata": {
  "orig_nbformat": 4,
  "language_info": {
   "name": "python",
   "version": "3.9.2",
   "mimetype": "text/x-python",
   "codemirror_mode": {
    "name": "ipython",
    "version": 3
   },
   "pygments_lexer": "ipython3",
   "nbconvert_exporter": "python",
   "file_extension": ".py"
  },
  "kernelspec": {
   "name": "python3",
   "display_name": "Python 3.9.2 64-bit ('venv': venv)"
  },
  "interpreter": {
   "hash": "a22d890c56086e79df6d02cc23a1d55e6733f6f52b505d8f86f142731d0b2f44"
  }
 },
 "nbformat": 4,
 "nbformat_minor": 2
}